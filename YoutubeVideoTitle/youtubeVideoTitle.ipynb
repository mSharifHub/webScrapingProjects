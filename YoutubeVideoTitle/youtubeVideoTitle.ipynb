{
 "cells": [
  {
   "cell_type": "code",
   "execution_count": 1,
   "id": "dbba9d5e",
   "metadata": {},
   "outputs": [],
   "source": [
    "from urllib.request import urlopen"
   ]
  },
  {
   "cell_type": "code",
   "execution_count": 2,
   "id": "cb910b5b",
   "metadata": {},
   "outputs": [],
   "source": [
    "from urllib.error import HTTPError"
   ]
  },
  {
   "cell_type": "code",
   "execution_count": 3,
   "id": "415a6bed",
   "metadata": {},
   "outputs": [],
   "source": [
    "from bs4 import BeautifulSoup"
   ]
  },
  {
   "cell_type": "code",
   "execution_count": 4,
   "id": "59b1e927",
   "metadata": {},
   "outputs": [],
   "source": [
    "def getTitle(url):\n",
    "    try:\n",
    "        html = urlopen(url)\n",
    "    except HTTPError as err:\n",
    "        print(f\"http error {err}\")\n",
    "        return None\n",
    "    try:\n",
    "        bs = BeautifulSoup(html.read(), \"html.parser\")\n",
    "        title = bs.find(\"title\").get_text()\n",
    "    except AttributeError as err:\n",
    "        print(f\"attribute error {err}\")\n",
    "        return None\n",
    "    return title"
   ]
  },
  {
   "cell_type": "code",
   "execution_count": 5,
   "id": "d0bb0fc4",
   "metadata": {},
   "outputs": [],
   "source": [
    "title = getTitle(\"https://www.youtube.com/watch?v=Snc8X8Yx2U0\")"
   ]
  },
  {
   "cell_type": "code",
   "execution_count": 6,
   "id": "916392b8",
   "metadata": {},
   "outputs": [
    {
     "name": "stdout",
     "output_type": "stream",
     "text": [
      "The Story Of A Legend | Whiplash Motivational Video | - YouTube\n"
     ]
    }
   ],
   "source": [
    "if title is None:\n",
    "    print('Title could not be found')\n",
    "else:\n",
    "    print(title)"
   ]
  },
  {
   "cell_type": "code",
   "execution_count": null,
   "id": "334b9ab3",
   "metadata": {},
   "outputs": [],
   "source": []
  }
 ],
 "metadata": {
  "kernelspec": {
   "display_name": "Python 3 (ipykernel)",
   "language": "python",
   "name": "python3"
  },
  "language_info": {
   "codemirror_mode": {
    "name": "ipython",
    "version": 3
   },
   "file_extension": ".py",
   "mimetype": "text/x-python",
   "name": "python",
   "nbconvert_exporter": "python",
   "pygments_lexer": "ipython3",
   "version": "3.11.5"
  }
 },
 "nbformat": 4,
 "nbformat_minor": 5
}
