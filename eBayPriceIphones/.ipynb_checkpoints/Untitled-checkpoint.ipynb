{
 "cells": [
  {
   "cell_type": "code",
   "execution_count": 20,
   "id": "b6ef9294",
   "metadata": {},
   "outputs": [],
   "source": [
    "from urllib.request import urlopen, Request"
   ]
  },
  {
   "cell_type": "code",
   "execution_count": 21,
   "id": "47b55b1a",
   "metadata": {},
   "outputs": [],
   "source": [
    "from urllib.error import URLError, HTTPError"
   ]
  },
  {
   "cell_type": "code",
   "execution_count": 26,
   "id": "257666e1",
   "metadata": {},
   "outputs": [],
   "source": [
    "from bs4 import BeautifulSoup"
   ]
  },
  {
   "cell_type": "code",
   "execution_count": 31,
   "id": "96fbc5e1",
   "metadata": {},
   "outputs": [],
   "source": [
    "url = 'https://www.ebay.com/sch/i.html?_nkw=iphone'"
   ]
  },
  {
   "cell_type": "code",
   "execution_count": 35,
   "id": "37ece4b3",
   "metadata": {},
   "outputs": [],
   "source": [
    "def scrape_iphone_prices_ebay(url)-> dict:\n",
    "    \n",
    "    headers = {'User-agent': 'Mozilla/5.0'}\n",
    "    request = Request(url,headers = headers)\n",
    "    \n",
    "    serverResponse = {\n",
    "        'status': '',\n",
    "        'html': '',\n",
    "        'titles': [],\n",
    "        'prices': [],\n",
    "        'data_error': '',\n",
    "        'url_error': ''\n",
    "        \n",
    "    }\n",
    "    \n",
    "    try:\n",
    "        response =urlopen(request)\n",
    "        html = response.read()\n",
    "        \n",
    "        if response.status == 200:\n",
    "            \n",
    "            serverResponse['status'] = 200\n",
    "            \n",
    "            serverResponse['html'] = html\n",
    "            \n",
    "            soup = BeautifulSoup(html,'html.parser')\n",
    "            \n",
    "            listings_container = soup.find('div',class_='srp-results')\n",
    "            \n",
    "            if listings_container:\n",
    "                \n",
    "                listings = listings_container.find_all('li',class_='s-item')\n",
    "                \n",
    "    \n",
    "            \n",
    "                for listing in listings:\n",
    "                    title = listing.find('h3',class_='s-item__title')\n",
    "                    price = listing.find('span',class_='s-item__price')\n",
    "                    \n",
    "                    if title and price:\n",
    "                        serverResponse['titles'].append(title.text)\n",
    "                        serverResponse['prices'].append(price.text)\n",
    "            \n",
    "            else:\n",
    "              serverResponse['data_error']= f\"listings_container not found and return {listings_container}\"\n",
    "        else:\n",
    "            serverResponse['request-error-code'] = response.status\n",
    "           \n",
    "    except HTTPError as err:\n",
    "       serverResponse['http-error'] = str(err)\n",
    "    except UrLError as err:\n",
    "        serverResponse['url-error'] = str(err)\n",
    "    finally:\n",
    "        response.close()\n",
    "        \n",
    "    return {'titles': serverResponse['titles'], 'prices': serverResponse['prices'], 'dataError': serverResponse['data_error'], 'urlError': serverResponse}\n",
    "        \n",
    "                    \n",
    "                    \n",
    "            \n",
    "            "
   ]
  },
  {
   "cell_type": "code",
   "execution_count": 36,
   "id": "1b81819f",
   "metadata": {},
   "outputs": [],
   "source": [
    "url = 'https://www.ebay.com/sch/i.html?_nkw=iphone'"
   ]
  },
  {
   "cell_type": "code",
   "execution_count": 37,
   "id": "9c23e91f",
   "metadata": {},
   "outputs": [
    {
     "name": "stdout",
     "output_type": "stream",
     "text": [
      "{'titles': [], 'prices': [], 'dataError': 'listings_container not found and return None'}\n"
     ]
    }
   ],
   "source": [
    "print(scrape_iphone_prices_ebay(url))"
   ]
  },
  {
   "cell_type": "code",
   "execution_count": null,
   "id": "20d4feb8",
   "metadata": {},
   "outputs": [],
   "source": []
  }
 ],
 "metadata": {
  "kernelspec": {
   "display_name": "Python 3 (ipykernel)",
   "language": "python",
   "name": "python3"
  },
  "language_info": {
   "codemirror_mode": {
    "name": "ipython",
    "version": 3
   },
   "file_extension": ".py",
   "mimetype": "text/x-python",
   "name": "python",
   "nbconvert_exporter": "python",
   "pygments_lexer": "ipython3",
   "version": "3.11.5"
  }
 },
 "nbformat": 4,
 "nbformat_minor": 5
}
