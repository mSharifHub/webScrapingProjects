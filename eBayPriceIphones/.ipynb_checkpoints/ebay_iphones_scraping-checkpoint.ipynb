{
 "cells": [
  {
   "cell_type": "code",
   "execution_count": 20,
   "id": "3bcc40fd",
   "metadata": {},
   "outputs": [],
   "source": [
    "from urllib.request import urlopen, Request"
   ]
  },
  {
   "cell_type": "code",
   "execution_count": 21,
   "id": "1eb2e4df",
   "metadata": {},
   "outputs": [],
   "source": [
    "from urllib.error import URLError, HTTPError"
   ]
  },
  {
   "cell_type": "code",
   "execution_count": 26,
   "id": "2de3a508",
   "metadata": {},
   "outputs": [],
   "source": [
    "from bs4 import BeautifulSoup"
   ]
  },
  {
   "cell_type": "code",
   "execution_count": 31,
   "id": "fae61b6e",
   "metadata": {},
   "outputs": [],
   "source": [
    "url = 'https://www.ebay.com/sch/i.html?_nkw=iphone'"
   ]
  },
  {
   "cell_type": "code",
   "execution_count": 50,
   "id": "55386ac5",
   "metadata": {},
   "outputs": [],
   "source": [
    "def scrape_iphone_prices_ebay(url)-> dict:\n",
    "    \n",
    "    headers = {'User-agent': 'Mozilla/5.0'}\n",
    "    request = Request(url,headers = headers)\n",
    "    \n",
    "    serverResponse = {\n",
    "        'status': '',\n",
    "        'html': '',\n",
    "        'titles': [],\n",
    "        'prices': [],\n",
    "        'data_error': '',\n",
    "        'url_error': ''\n",
    "        \n",
    "    }\n",
    "    \n",
    "    try:\n",
    "        response =urlopen(request)\n",
    "        html = response.read()\n",
    "        \n",
    "        if response.status == 200:\n",
    "            \n",
    "            serverResponse['status'] = 200\n",
    "            \n",
    "            serverResponse['html'] = html\n",
    "            \n",
    "            soup = BeautifulSoup(html,'html.parser')\n",
    "            \n",
    "            # find the current class structure for ebay for listing results \n",
    "            listings = soup.find_all('li',class_='s-item s-item--large')\n",
    "            \n",
    "            if listings:\n",
    "                for listing in listings:\n",
    "                    title = listing.find('h3',class_='s-item__title')\n",
    "                    price = listing.find('span',class_='s-item__price')\n",
    "                    \n",
    "                    if title and price:\n",
    "                        serverResponse['titles'].append(title.text)\n",
    "                        serverResponse['prices'].append(price.text)\n",
    "            \n",
    "            else:\n",
    "              serverResponse['data_error']= f\"listings_container not found and return {listings}\"\n",
    "        else:\n",
    "            serverResponse['request-error-code'] = response.status\n",
    "           \n",
    "    except HTTPError as err:\n",
    "       serverResponse['http-error'] = str(err)\n",
    "    except UrLError as err:\n",
    "        serverResponse['url-error'] = str(err)\n",
    "    finally:\n",
    "        response.close()\n",
    "        \n",
    "    return {'status': serverResponse['status'],'titles': serverResponse['titles'], 'prices': serverResponse['prices'], 'dataError': serverResponse['data_error'], 'urlError': serverResponse['url_error']}\n",
    "        \n",
    "                    \n",
    "                    \n",
    "            \n",
    "            "
   ]
  },
  {
   "cell_type": "code",
   "execution_count": 51,
   "id": "28a27747",
   "metadata": {},
   "outputs": [],
   "source": [
    "url = 'https://www.ebay.com/b/Apple-Cell-Phones-Smartphones/9355/bn_319682'"
   ]
  },
  {
   "cell_type": "code",
   "execution_count": 52,
   "id": "a38bb8ca",
   "metadata": {},
   "outputs": [
    {
     "name": "stdout",
     "output_type": "stream",
     "text": [
      "{'status': 200, 'titles': ['2020 Apple iPhone SE 2nd Gen (Great Condition) Unlocked Verizon AT&T T-Mobile 8', 'Apple iPhone 8 (Great Condition) Factory Unlocked, AT&T, T-Mobile or Verizon', '2020 Apple iPhone SE 2nd Gen (Fair Condition) Unlocked AT&T T-Mobile Verizon 8', 'Apple iPhone 12 64GB AT&T (Black Blue Purple) Smartphone 5G', 'Apple iPhone 13 Pro 128GB Sierra Blue Network Unlocked Excellent Condition', 'Apple iPhone 11 64GB Unlocked - Very Good', 'Apple iPhone 13  128GB Unlocked Smartphone - Good', 'Apple iPhone 13, A2482, 128GB, Unlocked, Excellent Condition', 'Apple iPhone 13 128GB Unlocked Smartphone - Very Good', 'Poor- Apple iPhone XR 64GB - Black (Unlocked - Verizon) Smartphone - Free Ship', 'Apple iPhone 8 Plus - 64GB - Gold (Unlocked) A1864 (CDMA + GSM) - Good', 'Apple iPhone 13 A2482 128GB Network Unlocked Very Good Condition', 'Apple iPhone XR -64GB 128gb -Factory Unlocked A1984 Smartphone Colors VERY GOOD', 'Apple iPhone 12 A2172 64/128/256GB AT&T T-Mobile Verizon Unlocked GOOD', 'Apple iPhone 12 A2172 64/128/256GB AT&T T-Mobile Verizon Unlocked GREAT', 'Apple iPhone 13 Pro 128GB Unlocked AT&T T-Mobile Verizon Very Good Condition', 'Apple iPhone 12 mini 64GB Unlocked AT&T T-Mobile Verizon Very Good Condition', 'Apple iPhone 12 64/128/256GB -  Fully Unlocked - All colors - Used Condition', 'Apple iPhone 12 - 64GB - GSM & CDMA UNLOCKED 5G LTE DEVICE-ALL COLORS~VERY GOOD!', 'Apple iPhone XR 64GB Unlocked Smartphone - Good', 'Apple iPhone 13 256GB Network Unlocked Very Good Condition', 'Apple iPhone 12 Pro 256GB Unlocked AT&T T-Mobile Verizon Very Good Condition', 'Apple iPhone 12 Pro 128GB Unlocked AT&T T-Mobile Verizon Very Good Condition', 'Apple iPhone 13 Pro 128GB Graphite Network Unlocked Excellent Condition', 'Apple - iPhone 15 PRO MAX - 256gb - Unlocked - Factory Warranty - All Colors', 'Apple iPhone 13 Pro 256GB Graphite Network Unlocked Excellent Condition', 'Apple iPhone 13 Pro Max A2484 128GB Network Unlocked Very Good', 'Apple iPhone X 64GB 128GB 256GB T-Mobile ATT Unlocked Verizon Good', 'Apple iPhone 7 - 128GB - All Colors - Unlocked - Good Condition', 'New ListingApple iPhone X - 64GB - Space Gray (Unlocked) *BATTERY = SERVICE*', 'Apple iPhone 8 Plus - 64GB - Space Gray (Unlocked) AT&T T-Mobile Verizon', 'Apple iPhone 13 Pro Max A2484 128GB Network Unlocked Good Condition', 'Apple iPhone 8 - 64GB - Space Gray (UNLOCKED) A1863 (CDMA + GSM)', 'Apple iPhone 11 Pro Max 256GB Unlocked AT&T T-Mobile Verizon Very Good Condition', 'Apple iPhone SE (2nd Gen.) 64GB Unlocked Good Condition - All Colors', 'Apple iPhone 12 Pro Max 128GB Unlocked Smartphone - Very Good', 'Apple iPhone 13 Pro Max, A2484, 256GB, Unlocked, Excellent Condition', 'Apple iPhone 8/8 Plus (64GB 128GB 256GB) Unlocked Verizon At&t GSM/CDMA LTE 4G', 'Apple iPhone 13 mini - Various Colors (Unlocked) - Excellent Condition', 'Apple iPhone 12 mini 128GB Unlocked AT&T T-Mobile Verizon Very Good Condition', 'Apple iPhone 12 128GB Factory Unlocked AT&T T-Mobile Verizon Very Good Condition', 'Apple iPhone X A1865 (Fully Unlocked) 256GB Space Gray (Excellent)', 'Apple iPhone 13 mini 128GB Factory Unlocked AT&T T-Mobile Verizon Very Good', 'Apple iPhone 12 Pro 128GB Unlocked - Very Good', 'Apple iPhone 13 Pro 128GB Gold Network Unlocked Excellent Condition', 'Apple iPhone 6 16GB 64GB 128GB Factory Unlocked AT&T Verizon TMobile Sprint Min', 'Apple iPhone XR - 64GB 128GB 256GB Unlocked ATT T-Mobile Good Condition'], 'prices': ['$164.99 to $224.99', '$144.99 to $244.99', '$159.99', '$241.00 to $252.00', '$493.48', '$219.99', '$367.95', '$424.24', '$387.95', '$124.99', '$139.95', '$404.04', '$171.50 to $174.99', '$220.99 to $279.99', '$249.99 to $279.99', '$489.95', '$227.95', '$239.99 to $289.99', '$254.99', '$165.95', '$430.43', '$374.95', '$359.95', '$494.00', '$1,179.99', '$532.75', '$604.67', '$169.98', '$80.00 to $112.00', '$144.99', '$149.89', '$604.67', '$108.49', '$364.95', '$109.99', '$464.95', '$646.37', '$90.00 to $177.00', '$379.99 to $449.99', '$252.95', '$304.95', '$189.99', '$361.95', '$349.99', '$493.48', '$39.00 to $105.00', '$149.00 to $159.00'], 'dataError': '', 'urlError': ''}\n"
     ]
    }
   ],
   "source": [
    "print(scrape_iphone_prices_ebay(url))"
   ]
  },
  {
   "cell_type": "code",
   "execution_count": null,
   "id": "60ea595e",
   "metadata": {},
   "outputs": [],
   "source": []
  }
 ],
 "metadata": {
  "kernelspec": {
   "display_name": "Python 3 (ipykernel)",
   "language": "python",
   "name": "python3"
  },
  "language_info": {
   "codemirror_mode": {
    "name": "ipython",
    "version": 3
   },
   "file_extension": ".py",
   "mimetype": "text/x-python",
   "name": "python",
   "nbconvert_exporter": "python",
   "pygments_lexer": "ipython3",
   "version": "3.11.5"
  }
 },
 "nbformat": 4,
 "nbformat_minor": 5
}
